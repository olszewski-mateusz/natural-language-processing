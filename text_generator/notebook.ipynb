{
 "cells": [
  {
   "cell_type": "code",
   "execution_count": 1,
   "metadata": {},
   "outputs": [
    {
     "name": "stdout",
     "output_type": "stream",
     "text": [
      "Średnio co dwa miesiące od początku popieraliśmy pogląd sprawozdawcy, pana posła casiniego.\n",
      "przed takimi problemami stoi unia europejska, obciążona przestarzałym i sztywnym systemem biurokracji, hamującym rozwój nowych usług i zwiększonego ruchu danych w europie solidarności.\n",
      "dlatego musimy jednomyślnie poprzeć przeznaczenie przez państwa członkowskie, podzielam stanowisko sprawozdawcy udzielające poparcia dla zawartego we wniosku dotyczącym wieloletnich ram finansowych (wrf) ue. podstawowa zmiana wprowadzona na mocy prawa krajowego; zwraca się uwagę, że sprawozdawca przedstawił propozycję dotyczącą wprowadzenia do katalogu biznesowego, a następnie zmieniony w drodze rozporządzenia i że spoczywają głównie w niemczech, gdzie tak wiele koleżanek i kolegów posłów, którzy poczuli się obrażeni nasza kampanią, i powtórzyć obietnicę, którą dałem przewodniczącemu swojej podkomisji, panu posłowi chatzimarkakisowi i wszystkim pozostałym sprawozdawcom za te bardzo dobre wyniki w zakresie polityki zagranicznej ue. z zadowoleniem przyjmuję zieloną księgę komisji w sprawie oznaczeń kraju pochodzenia produktu tekstylnego, to cieszę się, że wraz z jego wolnością wyrażania opinii przez posłów romanę jordan cizelj, wspólnie z panią margaret chan, dyrektor generalną who na temat europejskiego nakazu aresztowania.\n",
      "określono cele, do których zachęca ta inicjatywa, dlatego też konieczne jest przeprowadzenie tego badania, abyśmy mogli otworzyć negocjacje z republiką seszeli pozwalającej na eksport europejskich win.\n",
      "to tylko sposób na realną wymianę sprawdzonych praktyk.\n",
      "w sprawozdaniu podkreśla się w trudnym położeniu, osoby niepełnosprawne i inne kraje są już nowe postanowienia wspólnej polityki bezpieczeństwa i obrony, która byłaby niezależna od stanów zjednoczonych europy, a zatem i eksploatacji systemu po 2013 roku ma szansę przyczynić się do realizacji tego celu strony zobowiązują się stosować konieczne środki i inicjatywy ue, których interesy są sprzeczne, jest korzystne: ważne, żeby sędzia - a o niektórych jego aspektów.\n",
      "oto dlaczego zmiana węgierskiej konstytucji ma dwie zasadnicze wady.\n",
      "pani przewodnicząca! termin \"ekologizacja” pierwszego filaru oznaczałoby katastrofalne skutki dla ogólnej polityki spójności po 2013 r.\n",
      "piłka jest teraz negocjowana, a także pilną potrzebę działań w ramach wspólnego przedsięwzięcia należy powołać komisję ds. audytu.\n",
      "zgadzam się ze sprawozdawcą.\n",
      "przede wszystkim, jeśli chodzi o konstrukcje zabezpieczające przy przewróceniu montowanych przed siedzeniem kierowcy w kołowych ciągnikach rolniczych i leśnych o wąskim rozstawie kół stanowi, że ue musi znaleźć rozwiązanie kwestii współpracy międzyparlamentarnej.\n",
      "uważam, że takie działania mogą skutkować, nawet niezamierzenie, bardzo różnymi rezultatami, a wręcz przeciwnie - na tym obszarze, w tym efektywność pod względem jakościowym i ilościowym i pochodzących z europejskiego funduszu społecznego.\n",
      "po pierwsze, fakt, że branża twórcza są siłą napędową nie tylko ściślejszą koordynację, ale też w celu przeciwdziałania wywieraniu przez ludzi i środowiska.\n",
      "wzięliśmy na siebie ważniejszą rolę. dlatego też, zabiegając o przyszłe prawo umów niesie ze sobą dla rynku wewnętrznego, co jest bardzo ważne, aby chorwacja uczestniczyła w pracach europejskiego centrum monitorowania narkotyków i narkomanii, opracowując obiektywne, wiarygodne i porównywalne informacje na temat nauki, a dodatkowo kładzie nacisk na politykę zagraniczną i miejscem europy w obszarze polityki kulturalnej.\n",
      "istnienie dwustronnych umów inwestycyjnych na polecenie komisji zanim unia europejska stała się już w przyjętej przez radę przeszkód w dostępie do rynków drugiej strony jednak wiele z poprawek grupy zielonych, w których możemy korzystać. to nie do przyjęcia.\n",
      "głosowałam za odroczeniem absolutorium, dla dwóch agencji - cepol i europejskiej twórczości oraz w projekty i programy w zakresie praktyk\n"
     ]
    }
   ],
   "source": [
    "from collections import Counter\n",
    "import random\n",
    "import itertools\n",
    "\n",
    "def get_word_ngrams(data, n_gram_len):\n",
    "    splitted = data.split(' ')\n",
    "    result = []\n",
    "    for i in range(len(splitted) - n_gram_len + 1):\n",
    "        value = [splitted[i+j] for j in range(n_gram_len)]\n",
    "        result.append(value)\n",
    "    return result\n",
    "\n",
    "def generate_ngram_markov(n_gram_len):\n",
    "    markov_dict = dict() # stwórz słownik, który wskaże listę dozwolonych słów po zaobserwowanych n-poprzednich słowach.\n",
    "    with open(\"polish_europarl.txt\", 'r', encoding=\"utf8\") as f: # wczytaj korpus danych\n",
    "        data = f.read().lower()                                           # zamień wszystkie wielkie litery na małe\n",
    "        n_grams = get_word_ngrams(data, n_gram_len)                   # wygeneruj wszystkie n-gramy słów z korpusu\n",
    "        for n_gram in n_grams:                   # dla każdego n-gramu...\n",
    "            context = \" \".join(n_gram[:-1])      # weź wszystkie słowa z n-gramu poza ostatnim i połącz w 1 string spacją\n",
    "            last_word = str(n_gram[-1])          # weź ostatnie słowo n-gramu\n",
    "            \n",
    "            if context not in markov_dict.keys(): # jeśli n-gram ubiedzony o ostatnie słowo nie występuje jeszcze w słowniku\n",
    "                markov_dict[context] = list()     # to dopiszmy go do słownika i stwórzmy mu listę\n",
    "            markov_dict[context].append(last_word) # wiedząc, że ubiedzony n-gram jest w słowniku - dopiszmy ostatnie słowo do listy\n",
    "    \n",
    "    for context in markov_dict.keys():                        # dla każdego kontekstu (ubiedzonego n-gramu)\n",
    "        markov_dict[context] = Counter(markov_dict[context])  # stwórz histogram słów jakie występują w korpusie po tym kontekście\n",
    "    \n",
    "    return markov_dict\n",
    "\n",
    "\n",
    "n_gram_len = 3  # liczba słów do stworznia n-gramu\n",
    "markov_dict = generate_ngram_markov(n_gram_len)  # stworzenie słownika z histogramami słów dla poszczególnych kontekstów\n",
    "\n",
    "text = 'Średnio co dwa' # tekst, od którego zaczniemy generowanie\n",
    "\n",
    "for i in range(500):               # powtórzmy 500 razy ...\n",
    "    text_spl = text.split(\" \")     # podzielmy istniejący tekst po spacji (przeprowadźmy naiwną 'tokenizację')\n",
    "    context = \" \".join(text_spl[-n_gram_len+1:])   # pobierzmy ostatnie n_gram_len - 1 słów\n",
    "    idx = random.randrange(sum(markov_dict[context].values())) # sprawdźmy słowa, które są dozwolone jako następniki naszego kontekstu (context) i wybierzmy taki następnik, który zostanie wylosowany zgodnie z rozkładem stworzonym przez histogram.\n",
    "    new_word = next(itertools.islice(markov_dict[context].elements(), idx, None)) # wybierzmy wylosowane słowo\n",
    "    text = text + \" \" + new_word # doklejmy wylosowane słowo na końcu\n",
    "print(text)"
   ]
  }
 ],
 "metadata": {
  "kernelspec": {
   "display_name": "Python 3",
   "language": "python",
   "name": "python3"
  },
  "language_info": {
   "codemirror_mode": {
    "name": "ipython",
    "version": 3
   },
   "file_extension": ".py",
   "mimetype": "text/x-python",
   "name": "python",
   "nbconvert_exporter": "python",
   "pygments_lexer": "ipython3",
   "version": "3.8.5"
  }
 },
 "nbformat": 4,
 "nbformat_minor": 4
}
