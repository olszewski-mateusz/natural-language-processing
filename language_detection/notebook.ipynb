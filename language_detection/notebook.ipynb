{
 "cells": [
  {
   "cell_type": "code",
   "execution_count": 1,
   "metadata": {},
   "outputs": [
    {
     "name": "stderr",
     "output_type": "stream",
     "text": [
      "C:\\ProgramData\\Anaconda3\\lib\\site-packages\\sklearn\\linear_model\\_logistic.py:762: ConvergenceWarning: lbfgs failed to converge (status=1):\n",
      "STOP: TOTAL NO. of ITERATIONS REACHED LIMIT.\n",
      "\n",
      "Increase the number of iterations (max_iter) or scale the data as shown in:\n",
      "    https://scikit-learn.org/stable/modules/preprocessing.html\n",
      "Please also refer to the documentation for alternative solver options:\n",
      "    https://scikit-learn.org/stable/modules/linear_model.html#logistic-regression\n",
      "  n_iter_i = _check_optimize_result(\n"
     ]
    },
    {
     "name": "stdout",
     "output_type": "stream",
     "text": [
      "              precision    recall  f1-score   support\n",
      "\n",
      "     english       1.00      1.00      1.00       303\n",
      "      french       1.00      1.00      1.00       280\n",
      "      german       1.00      1.00      1.00       337\n",
      "     italian       1.00      1.00      1.00       273\n",
      "      polish       1.00      1.00      1.00       291\n",
      "     spanish       1.00      1.00      1.00       299\n",
      "\n",
      "    accuracy                           1.00      1783\n",
      "   macro avg       1.00      1.00      1.00      1783\n",
      "weighted avg       1.00      1.00      1.00      1783\n",
      "\n"
     ]
    }
   ],
   "source": [
    "from sklearn.pipeline import Pipeline\n",
    "from sklearn.feature_extraction.text import TfidfVectorizer\n",
    "from sklearn.linear_model import LogisticRegression\n",
    "from sklearn.preprocessing import StandardScaler\n",
    "from sklearn.metrics import classification_report\n",
    "import pandas\n",
    "import numpy as np\n",
    "\n",
    "def get_class_name_from_id(ids, mapping):\n",
    "    return [mapping[id] for id in ids]\n",
    "\n",
    "full_dataset = pandas.read_csv('language_detection_1000.csv', encoding='utf-8') \n",
    "lang_to_id = {'polish': 0, 'english': 1, 'french': 2,\n",
    "              'german': 3, 'italian': 4, 'spanish': 5}\n",
    "id_to_lang = {v: k for k,v in lang_to_id.items()}\n",
    "full_dataset['label_num'] = full_dataset.lang.map(lang_to_id)  \n",
    "\n",
    "np.random.seed(0)                                       \n",
    "train_indices = np.random.rand(len(full_dataset)) < 0.7 \n",
    "\n",
    "train = full_dataset[train_indices] \n",
    "test = full_dataset[~train_indices] \n",
    "\n",
    "pipeline = Pipeline([            \n",
    "    ('tfidf', TfidfVectorizer(max_features=300, analyzer='char', ngram_range=(2,2))),\n",
    "    ('scaler', StandardScaler(with_mean = False)),\n",
    "    ('clf', LogisticRegression()),\n",
    "])\n",
    "\n",
    "pipeline.fit(train['text'], train['label_num']) \n",
    "\n",
    "print(classification_report(\n",
    "    get_class_name_from_id(test['label_num'], id_to_lang), \n",
    "    get_class_name_from_id(pipeline.predict(test['text']), id_to_lang)\n",
    "))"
   ]
  },
  {
   "cell_type": "code",
   "execution_count": 2,
   "metadata": {},
   "outputs": [
    {
     "name": "stdout",
     "output_type": "stream",
     "text": [
      "Tekst: Bonjour! został zaklasyfikowany jako: french\n"
     ]
    }
   ],
   "source": [
    "text_to_predict = \"Bonjour!\"\n",
    "predicted = pipeline.predict([text_to_predict])\n",
    "print(\"Tekst: {t} został zaklasyfikowany jako: {p}\".format(\n",
    "    t=text_to_predict,\n",
    "    p=id_to_lang[predicted[0]]\n",
    "))"
   ]
  }
 ],
 "metadata": {
  "kernelspec": {
   "display_name": "Python 3",
   "language": "python",
   "name": "python3"
  },
  "language_info": {
   "codemirror_mode": {
    "name": "ipython",
    "version": 3
   },
   "file_extension": ".py",
   "mimetype": "text/x-python",
   "name": "python",
   "nbconvert_exporter": "python",
   "pygments_lexer": "ipython3",
   "version": "3.8.5"
  }
 },
 "nbformat": 4,
 "nbformat_minor": 4
}
