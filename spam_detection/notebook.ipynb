{
 "cells": [
  {
   "cell_type": "code",
   "execution_count": 7,
   "metadata": {},
   "outputs": [
    {
     "name": "stdout",
     "output_type": "stream",
     "text": [
      "ACCURACY: 88.4038199181446%\n",
      "              precision    recall  f1-score   support\n",
      "\n",
      "           0       0.86      1.00      0.92       517\n",
      "           1       1.00      0.61      0.76       216\n",
      "\n",
      "    accuracy                           0.88       733\n",
      "   macro avg       0.93      0.80      0.84       733\n",
      "weighted avg       0.90      0.88      0.87       733\n",
      "\n"
     ]
    }
   ],
   "source": [
    "from sklearn.pipeline import Pipeline\n",
    "from sklearn.naive_bayes import MultinomialNB\n",
    "from sklearn.feature_extraction.text import TfidfVectorizer\n",
    "import pandas\n",
    "import numpy as np\n",
    "\n",
    "full_dataset = pandas.read_csv('spam_emails.csv', encoding='utf-8')      \n",
    "full_dataset['label_num'] = full_dataset.label.map({'ham':0, 'spam':1})\n",
    "\n",
    "np.random.seed(0)                                       \n",
    "train_indices = np.random.rand(len(full_dataset)) < 0.7 \n",
    "\n",
    "train = full_dataset[train_indices] \n",
    "test = full_dataset[~train_indices] \n",
    "\n",
    "pipeline = Pipeline([             \n",
    "    ('tfidf', TfidfVectorizer(max_df=0.4)),\n",
    "    ('clf', MultinomialNB()),\n",
    "])\n",
    "\n",
    "pipeline.fit(train['text'], train['label_num'])\n",
    "\n",
    "accuracy = pipeline.score(test['text'], test['label_num'])\n",
    "print(\"ACCURACY: {n}%\".format(n=100.*accuracy))\n",
    "print(classification_report(test['label_num'], pipeline.predict(test['text']))) "
   ]
  },
  {
   "cell_type": "code",
   "execution_count": 2,
   "metadata": {},
   "outputs": [
    {
     "name": "stdout",
     "output_type": "stream",
     "text": [
      "Tekst \"NEED TO FIND SOMETHING? ::FREE MORTGAGE QUOTE:: To be removed from this list, click here. \", to: SPAM\n"
     ]
    }
   ],
   "source": [
    "text_to_predict = \"NEED TO FIND SOMETHING? ::FREE MORTGAGE QUOTE:: To be removed from this list, click here. \"\n",
    "predicted = pipeline.predict([text_to_predict])\n",
    "if predicted == 1:\n",
    "    detected = 'SPAM'\n",
    "else:\n",
    "    detected = 'HAM'\n",
    "print(\"Tekst \\\"{t}\\\", to: {d}\".format(t=text_to_predict, d=detected))"
   ]
  },
  {
   "cell_type": "code",
   "execution_count": 3,
   "metadata": {},
   "outputs": [],
   "source": [
    "def load_embeddings(path):\n",
    "    mapping = dict()\n",
    "    \n",
    "    with open(path, 'r', encoding='utf8') as f:\n",
    "        for line in f:\n",
    "            line = line.strip()\n",
    "            if len(line) == 0:\n",
    "                continue\n",
    "            splitted = line.split(\" \")\n",
    "            mapping[splitted[0]] = np.array(splitted[1:], dtype=float)\n",
    "    return mapping\n",
    "\n",
    "mapping = load_embeddings('glove.6B.50d.txt') # http://nlp.stanford.edu/data/glove.6B.zip"
   ]
  },
  {
   "cell_type": "code",
   "execution_count": 11,
   "metadata": {},
   "outputs": [
    {
     "name": "stdout",
     "output_type": "stream",
     "text": [
      "ACCURACY: 91.81446111869032%\n",
      "              precision    recall  f1-score   support\n",
      "\n",
      "           0       0.93      0.95      0.94       517\n",
      "           1       0.88      0.84      0.86       216\n",
      "\n",
      "    accuracy                           0.92       733\n",
      "   macro avg       0.91      0.89      0.90       733\n",
      "weighted avg       0.92      0.92      0.92       733\n",
      "\n"
     ]
    }
   ],
   "source": [
    "from sklearn.pipeline import Pipeline\n",
    "from sklearn.svm import SVC\n",
    "from sklearn.feature_extraction.text import TfidfVectorizer\n",
    "import pandas\n",
    "import numpy as np\n",
    "from nltk import word_tokenize\n",
    "from sklearn.metrics import classification_report\n",
    "\n",
    "full_dataset = pandas.read_csv('spam_emails.csv', encoding='utf-8')     \n",
    "full_dataset['label_num'] = full_dataset.label.map({'ham':0, 'spam':1})  \n",
    "\n",
    "np.random.seed(0)                                      \n",
    "train_indices = np.random.rand(len(full_dataset)) < 0.7 \n",
    "\n",
    "train = full_dataset[train_indices] \n",
    "test = full_dataset[~train_indices] \n",
    "\n",
    "\n",
    "def documents_to_ave_embeddings(docs, embeddings):\n",
    "    result = [] \n",
    "    for doc in docs:\n",
    "        doc = doc.lower()\n",
    "        tokens = word_tokenize(doc)\n",
    "        i = 0\n",
    "        value = np.zeros(50)\n",
    "        for token in tokens:\n",
    "            if token in embeddings:\n",
    "                i += 1\n",
    "                value += embeddings[token]\n",
    "        value /= i\n",
    "        result.append(value)\n",
    "    return result\n",
    " \n",
    "classifier = SVC(C=1.0)\n",
    "\n",
    "train_transformed = documents_to_ave_embeddings(train['text'], mapping)\n",
    "test_transformed = documents_to_ave_embeddings(test['text'], mapping)\n",
    "\n",
    "classifier.fit(train_transformed, train['label_num']) \n",
    "\n",
    "accuracy = classifier.score(test_transformed, test['label_num'])\n",
    "print(\"ACCURACY: {n}%\".format(n=100.*accuracy))\n",
    "print(classification_report(test['label_num'], classifier.predict(test_transformed))) "
   ]
  }
 ],
 "metadata": {
  "kernelspec": {
   "display_name": "Python 3",
   "language": "python",
   "name": "python3"
  },
  "language_info": {
   "codemirror_mode": {
    "name": "ipython",
    "version": 3
   },
   "file_extension": ".py",
   "mimetype": "text/x-python",
   "name": "python",
   "nbconvert_exporter": "python",
   "pygments_lexer": "ipython3",
   "version": "3.8.5"
  }
 },
 "nbformat": 4,
 "nbformat_minor": 4
}
