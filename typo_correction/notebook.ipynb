{
 "cells": [
  {
   "cell_type": "code",
   "execution_count": 2,
   "metadata": {},
   "outputs": [
    {
     "name": "stdout",
     "output_type": "stream",
     "text": [
      "Tekst oryginalny: dzięń dobry pańestwu, labolatolia pżeprowadzone bydą w sali omputerowej 1.6.10. pozdrawiem\n",
      "Tekst poprawiony: dzień dobry państwu , laboratoria przeprowadzone będą w sali komputerowej 1.6.10. pozdrawiam\n",
      "Czas poprawiania: 1.8552333000000019.\n"
     ]
    }
   ],
   "source": [
    "from nltk.metrics.distance import edit_distance\n",
    "from nltk import word_tokenize\n",
    "from timeit import default_timer as timer              \n",
    "\n",
    "input_text = \"dzięń dobry pańestwu, labolatolia pżeprowadzone bydą w sali omputerowej 1.6.10. pozdrawiem\"\n",
    "\n",
    "with open('slowa_min.txt', 'r', encoding='utf8') as f:\n",
    "    valid_words = set([w.strip() for w in f.read().split(\"\\n\") if w.strip() != '']) \n",
    "\n",
    "def get_closest_word(token, valid_words):\n",
    "    bestScore = None\n",
    "    bestWord = None\n",
    "    for word in valid_words:\n",
    "        score = edit_distance(token, word)\n",
    "        if bestScore == None:\n",
    "            bestScore = score\n",
    "            bestWord = word\n",
    "        else:\n",
    "            if bestScore > score:\n",
    "                bestScore = score\n",
    "                bestWord = word\n",
    "    return bestWord  \n",
    "        \n",
    "tokenized_input = word_tokenize(input_text) \n",
    "start = timer() \n",
    "corrected = []   \n",
    "for token in tokenized_input:\n",
    "    if not token.isalpha() or token in valid_words:\n",
    "        corrected.append(token)\n",
    "    else: # popraw\n",
    "        corrected.append(get_closest_word(token, valid_words))\n",
    "end = timer()\n",
    "\n",
    "print(\"Tekst oryginalny: {t}\".format(t=input_text))\n",
    "print(\"Tekst poprawiony: {t}\".format(t=\" \".join(corrected)))\n",
    "print(\"Czas poprawiania: {t}.\".format(t=end-start))"
   ]
  }
 ],
 "metadata": {
  "kernelspec": {
   "display_name": "Python 3",
   "language": "python",
   "name": "python3"
  },
  "language_info": {
   "codemirror_mode": {
    "name": "ipython",
    "version": 3
   },
   "file_extension": ".py",
   "mimetype": "text/x-python",
   "name": "python",
   "nbconvert_exporter": "python",
   "pygments_lexer": "ipython3",
   "version": "3.8.5"
  }
 },
 "nbformat": 4,
 "nbformat_minor": 4
}
